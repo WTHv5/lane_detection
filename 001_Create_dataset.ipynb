{
 "cells": [
  {
   "cell_type": "markdown",
   "metadata": {},
   "source": [
    "This notebook should guid you to download the data set so you can start training.\n",
    "\n",
    "Alternative to the notebook, you can just run from the terminal\n",
    "```\n",
    "./download_data.sh\n",
    "./compute_labels.py\n",
    "```"
   ]
  },
  {
   "cell_type": "markdown",
   "metadata": {},
   "source": [
    "### Step 1\n",
    "Download the data"
   ]
  },
  {
   "cell_type": "code",
   "execution_count": 23,
   "metadata": {},
   "outputs": [],
   "source": [
    "%%bash\n",
    "wget https://www.dropbox.com/s/44twvk07syto4ua/bdd100k_labels_release.zip\n",
    "unzip bdd100k_labels_release.zip\n",
    "\n",
    "wget https://www.dropbox.com/s/p6wt442mwk6ggb0/bdd100k_images.zip\n",
    "unzip bdd100k_images.zip"
   ]
  },
  {
   "cell_type": "markdown",
   "metadata": {},
   "source": [
    "Now we need to filter the images from daylight time and highway"
   ]
  },
  {
   "cell_type": "code",
   "execution_count": 3,
   "metadata": {},
   "outputs": [],
   "source": [
    "%%bash\n",
    "cat ./bdd100k/labels/bdd100k_labels_images_train.json | jq '[.[] | select(.attributes.scene | contains(\"highway\")) ]'  | jq --compact-output '[.[] | select(.attributes.timeofday | contains(\"daytime\")) ]' > ./bdd100k/labels/daytime_highway_bdd100k_labels_images_train.json\n",
    "cat ./bdd100k/labels/bdd100k_labels_images_val.json | jq '[.[] | select(.attributes.scene | contains(\"highway\")) ]'  | jq --compact-output '[.[] | select(.attributes.timeofday | contains(\"daytime\")) ]' > ./bdd100k/labels/daytime_highway_bdd100k_labels_images_val.json"
   ]
  },
  {
   "cell_type": "markdown",
   "metadata": {},
   "source": [
    "Lets check the total number of lanes and the current lane of the vehicle"
   ]
  },
  {
   "cell_type": "code",
   "execution_count": 4,
   "metadata": {},
   "outputs": [],
   "source": [
    "import os\n",
    "import json\n",
    "import csv\n",
    "from statistics import mean\n",
    "import cv2\n",
    "import numpy as np\n",
    "from glob import glob"
   ]
  },
  {
   "cell_type": "code",
   "execution_count": 5,
   "metadata": {},
   "outputs": [],
   "source": [
    "PATH = \"./bdd100k/labels/\"\n",
    "INPUT = [\"daytime_highway_bdd100k_labels_images_val.json\",\"daytime_highway_bdd100k_labels_images_train.json\"]\n",
    "OUTPUT = \"data.csv\""
   ]
  },
  {
   "cell_type": "code",
   "execution_count": 6,
   "metadata": {},
   "outputs": [],
   "source": [
    "class Lane:\n",
    "    def __init__(self, polygon, json_index, current):\n",
    "        self.json_index = json_index\n",
    "        self.current = current\n",
    "        self.polygon = polygon\n",
    "        self.y = mean(y for [x,y] in self.polygon)\n",
    "        self.x = mean(x for [x,y] in self.polygon)"
   ]
  },
  {
   "cell_type": "code",
   "execution_count": 24,
   "metadata": {},
   "outputs": [],
   "source": [
    "def run(path, type):\n",
    "    json_file = open(path)\n",
    "    data = json.load(json_file)\n",
    "    \n",
    "    out_file = open(OUTPUT, type)\n",
    "    writer = csv.writer(out_file)\n",
    "\n",
    "    for element in data:\n",
    "        attributes = element[\"attributes\"]\n",
    "        \n",
    "        # filter only daytime\n",
    "        if attributes[\"timeofday\"] != \"daytime\":\n",
    "            continue\n",
    "        \n",
    "        # filter only highway\n",
    "        if attributes[\"scene\"] != \"highway\":\n",
    "            continue\n",
    "            \n",
    "        image_name = element[\"name\"]\n",
    "\n",
    "        image_path = None\n",
    "        if os.path.exists(os.path.join(\"bdd100k/images/100k/train\", image_name)):\n",
    "            image_path = os.path.join(\"bdd100k/images/100k/train\", image_name)\n",
    "        elif os.path.exists(os.path.join(\"bdd100k/images/100k/test\", image_name)):\n",
    "            image_path = os.path.join(\"bdd100k/images/100k/test\", image_name)\n",
    "        elif os.path.exists(os.path.join(\"bdd100k/images/100k/val\", image_name)):\n",
    "            image_path = os.path.join(\"bdd100k/images/100k/val\", image_name)\n",
    "        else:\n",
    "            raise(\"unknown path of the file\")\n",
    "                \n",
    "        totalLanes = 0\n",
    "        currentLane = 0\n",
    "\n",
    "        lanes = []\n",
    "        show_images = False\n",
    "        if show_images:\n",
    "            img = cv2.imread(image_path)\n",
    "\n",
    "        for label in element[\"labels\"]:\n",
    "            if label[\"category\"] == \"drivable area\":\n",
    "                totalLanes += 1\n",
    "                lane = Lane(\n",
    "                    polygon=label[\"poly2d\"][0][\"vertices\"],\n",
    "                    current=label[\"attributes\"][\"areaType\"] == \"direct\",\n",
    "                    json_index=totalLanes)\n",
    "                lanes.append(lane)\n",
    "                if show_images:\n",
    "                    poly = np.asarray([label[\"poly2d\"][0][\"vertices\"]], dtype='int32')\n",
    "                    cv2.polylines(img, [poly], True, (0, 255, 0) if label[\"attributes\"][\"areaType\"] == \"direct\" else (0, 0, 255), 7)\n",
    "                    cv2.circle(img, (int(lane.x), int(lane.y)), 7, (255, 0, 0), 7)\n",
    "\n",
    "                if label[\"attributes\"][\"areaType\"] == \"direct\":\n",
    "                    # can we assume that lanes ordered correctly? probably not!\n",
    "                    currentLane = totalLanes\n",
    "\n",
    "        lanes.sort(key=lambda l: l.x)\n",
    "        # avoid cases where we do not have drivable maps\n",
    "        if totalLanes != 0 and currentLane != 0:\n",
    "            currentLaneByY = 1\n",
    "            for lane in lanes:\n",
    "                if not lane.current:\n",
    "                    currentLaneByY += 1\n",
    "                else:\n",
    "                    break\n",
    "            \n",
    "            # currentLaneByY = next(i for i,v in enumerate(lanes) if v.current) + 1\n",
    "            writer.writerow([image_path, totalLanes, currentLaneByY])\n",
    "            if show_images:\n",
    "\n",
    "                font                   = cv2.FONT_HERSHEY_SIMPLEX\n",
    "                bottomLeftCornerOfText = (10,100)\n",
    "                fontScale              = 1\n",
    "                fontColor              = (255,255,255)\n",
    "                lineType               = 2\n",
    "\n",
    "                cv2.putText(img, \"{}/{}/{}\".format(totalLanes, currentLane, currentLaneByY),\n",
    "                    bottomLeftCornerOfText, \n",
    "                    font, \n",
    "                    fontScale,\n",
    "                    fontColor,\n",
    "                    lineType)\n",
    "\n",
    "                cv2.imshow(\"window\", img)\n",
    "                cv2.waitKey(0)\n",
    "        \n",
    "    \n",
    "    json_file.close()\n",
    "    out_file.close()"
   ]
  },
  {
   "cell_type": "code",
   "execution_count": 25,
   "metadata": {},
   "outputs": [],
   "source": [
    "if os.path.exists(OUTPUT):\n",
    "    os.remove(OUTPUT)\n",
    "\n",
    "run(os.path.join(PATH, INPUT[0]), \"w\")\n",
    "run(os.path.join(PATH, INPUT[1]), \"a\")"
   ]
  },
  {
   "cell_type": "markdown",
   "metadata": {},
   "source": [
    "Done, all data ow stored in the CSV file ```data.csv```!"
   ]
  },
  {
   "cell_type": "code",
   "execution_count": null,
   "metadata": {},
   "outputs": [],
   "source": []
  }
 ],
 "metadata": {
  "kernelspec": {
   "display_name": "Python 3",
   "language": "python",
   "name": "python3"
  },
  "language_info": {
   "codemirror_mode": {
    "name": "ipython",
    "version": 3
   },
   "file_extension": ".py",
   "mimetype": "text/x-python",
   "name": "python",
   "nbconvert_exporter": "python",
   "pygments_lexer": "ipython3",
   "version": "3.6.8"
  }
 },
 "nbformat": 4,
 "nbformat_minor": 2
}
