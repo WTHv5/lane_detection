{
 "cells": [
  {
   "cell_type": "markdown",
   "metadata": {},
   "source": [
    "This notebook will show us our data set"
   ]
  },
  {
   "cell_type": "code",
   "execution_count": 38,
   "metadata": {},
   "outputs": [],
   "source": [
    "import csv\n",
    "\n",
    "import matplotlib.pyplot as plt\n",
    "import numpy as np\n",
    "\n",
    "%matplotlib inline"
   ]
  },
  {
   "cell_type": "code",
   "execution_count": 24,
   "metadata": {},
   "outputs": [],
   "source": [
    "FILE = \"data.csv\"\n",
    "\n",
    "\n",
    "csvfile = open(FILE)\n",
    "readCSV = csv.reader(csvfile, delimiter=',')\n",
    "\n",
    "maxLanes = 0;\n",
    "for row in readCSV:\n",
    "    if int(row[1]) > maxLanes:\n",
    "        maxLanes = int(row[1])\n",
    "csvfile.close()\n"
   ]
  },
  {
   "cell_type": "code",
   "execution_count": 28,
   "metadata": {},
   "outputs": [
    {
     "name": "stdout",
     "output_type": "stream",
     "text": [
      "9811\n",
      "[2401, 2718, 2913, 1302, 398, 69, 9, 1]\n",
      "[5037, 3321, 1192, 242, 17, 2, 0, 0]\n"
     ]
    }
   ],
   "source": [
    "roadLaneCounter = [0] * maxLanes\n",
    "carLaneCounter = [0] * maxLanes\n",
    "\n",
    "csvfile = open(FILE)\n",
    "readCSV = csv.reader(csvfile, delimiter=',')\n",
    "\n",
    "total = 0\n",
    "for row in readCSV:\n",
    "    total += 1\n",
    "    roadLaneCounter[int(row[1])-1] += 1\n",
    "    carLaneCounter[int(row[2])-1] += 1\n",
    "csvfile.close()\n",
    "\n",
    "print(total)\n",
    "print(roadLaneCounter)\n",
    "print(carLaneCounter)"
   ]
  },
  {
   "cell_type": "markdown",
   "metadata": {},
   "source": [
    "Lets visualize our number of images groupped by total number of lanes on the road"
   ]
  },
  {
   "cell_type": "code",
   "execution_count": 41,
   "metadata": {},
   "outputs": [
    {
     "data": {
      "image/png": "[encoded data removed]",
      "text/plain": [
       "<matplotlib.figure.Figure at 0x7f9908720a90>"
      ]
     },
     "metadata": {
      "needs_background": "light"
     },
     "output_type": "display_data"
    }
   ],
   "source": [
    "fig, ax = plt.subplots()\n",
    "plt.bar(np.arange(8)+1, roadLaneCounter)\n",
    "plt.show()"
   ]
  },
  {
   "cell_type": "markdown",
   "metadata": {},
   "source": [
    "Lets visualize our number of images groupped by lane of the car"
   ]
  },
  {
   "cell_type": "code",
   "execution_count": 44,
   "metadata": {},
   "outputs": [
    {
     "data": {
      "image/png": "[encoded data removed]",
      "text/plain": [
       "<matplotlib.figure.Figure at 0x7f99083de470>"
      ]
     },
     "metadata": {
      "needs_background": "light"
     },
     "output_type": "display_data"
    }
   ],
   "source": [
    "fig, ax = plt.subplots()\n",
    "plt.bar(np.arange(8)+1, carLaneCounter)\n",
    "plt.show()"
   ]
  },
  {
   "cell_type": "code",
   "execution_count": null,
   "metadata": {},
   "outputs": [],
   "source": []
  }
 ],
 "metadata": {
  "kernelspec": {
   "display_name": "Python 3",
   "language": "python",
   "name": "python3"
  },
  "language_info": {
   "codemirror_mode": {
    "name": "ipython",
    "version": 3
   },
   "file_extension": ".py",
   "mimetype": "text/x-python",
   "name": "python",
   "nbconvert_exporter": "python",
   "pygments_lexer": "ipython3",
   "version": "3.5.3"
  }
 },
 "nbformat": 4,
 "nbformat_minor": 2
}
